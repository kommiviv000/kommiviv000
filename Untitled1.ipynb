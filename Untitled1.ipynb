{
  "nbformat": 4,
  "nbformat_minor": 0,
  "metadata": {
    "colab": {
      "provenance": [],
      "authorship_tag": "ABX9TyPM1U0No2jK6TI/LopapFad",
      "include_colab_link": true
    },
    "kernelspec": {
      "name": "python3",
      "display_name": "Python 3"
    },
    "language_info": {
      "name": "python"
    }
  },
  "cells": [
    {
      "cell_type": "markdown",
      "metadata": {
        "id": "view-in-github",
        "colab_type": "text"
      },
      "source": [
        "<a href=\"https://colab.research.google.com/github/kommiviv000/kommiviv000/blob/main/Untitled1.ipynb\" target=\"_parent\"><img src=\"https://colab.research.google.com/assets/colab-badge.svg\" alt=\"Open In Colab\"/></a>"
      ]
    },
    {
      "cell_type": "code",
      "execution_count": 2,
      "metadata": {
        "colab": {
          "base_uri": "https://localhost:8080/"
        },
        "id": "Orpu83S5CAHW",
        "outputId": "e0233f5c-cccd-4cdb-ef5e-361a97d802e0"
      },
      "outputs": [
        {
          "output_type": "stream",
          "name": "stdout",
          "text": [
            "Enter mph: 70\n",
            "Enter hours: 5\n",
            "1 : 70\n",
            "2 : 140\n",
            "3 : 210\n",
            "4 : 280\n",
            "5 : 350\n",
            "End\n"
          ]
        }
      ],
      "source": [
        "##########Assignment 6.1#############\n",
        "#Distance travelled with for loops and range function# \n",
        "\n",
        "g = 'y'\n",
        "\n",
        "speed = int(input('Enter mph: '))\n",
        "hours = int(input('Enter hours: '))\n",
        "\n",
        "if hours <= 0 or speed <= 0:\n",
        "    print('Invalid Hours and mph must be greater than 0')\n",
        "else:\n",
        "    for t in range(1,hours+1):\n",
        "        distance = speed * (t)        \n",
        "        \n",
        "        print(t,':', distance)\n",
        "        \n",
        "    g = 'n'\n",
        "print('End')"
      ]
    },
    {
      "cell_type": "code",
      "source": [
        "##########Assignment 6.2#########\n",
        "#Celcius to farenheit comversion table#\n",
        "for c in range(21):\n",
        "    f = (9/5)*c + 32\n",
        "    print(f'Farenheit:{f}     Celcius:{c}')\n",
        "    c += 1\n"
      ],
      "metadata": {
        "colab": {
          "base_uri": "https://localhost:8080/"
        },
        "id": "4VvNhuiKGdN8",
        "outputId": "02bbfefe-73d0-42d3-b494-3ccd2890c930"
      },
      "execution_count": 1,
      "outputs": [
        {
          "output_type": "stream",
          "name": "stdout",
          "text": [
            "Farenheit:32.0     Celcius:0\n",
            "Farenheit:33.8     Celcius:1\n",
            "Farenheit:35.6     Celcius:2\n",
            "Farenheit:37.4     Celcius:3\n",
            "Farenheit:39.2     Celcius:4\n",
            "Farenheit:41.0     Celcius:5\n",
            "Farenheit:42.8     Celcius:6\n",
            "Farenheit:44.6     Celcius:7\n",
            "Farenheit:46.4     Celcius:8\n",
            "Farenheit:48.2     Celcius:9\n",
            "Farenheit:50.0     Celcius:10\n",
            "Farenheit:51.8     Celcius:11\n",
            "Farenheit:53.6     Celcius:12\n",
            "Farenheit:55.400000000000006     Celcius:13\n",
            "Farenheit:57.2     Celcius:14\n",
            "Farenheit:59.0     Celcius:15\n",
            "Farenheit:60.8     Celcius:16\n",
            "Farenheit:62.6     Celcius:17\n",
            "Farenheit:64.4     Celcius:18\n",
            "Farenheit:66.2     Celcius:19\n",
            "Farenheit:68.0     Celcius:20\n"
          ]
        }
      ]
    }
  ]
}