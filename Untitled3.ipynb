{
  "nbformat": 4,
  "nbformat_minor": 0,
  "metadata": {
    "colab": {
      "provenance": [],
      "authorship_tag": "ABX9TyMwR6Es5RtyoXbALbaM/lFD",
      "include_colab_link": true
    },
    "kernelspec": {
      "name": "python3",
      "display_name": "Python 3"
    },
    "language_info": {
      "name": "python"
    }
  },
  "cells": [
    {
      "cell_type": "markdown",
      "metadata": {
        "id": "view-in-github",
        "colab_type": "text"
      },
      "source": [
        "<a href=\"https://colab.research.google.com/github/kommiviv000/kommiviv000/blob/main/Untitled3.ipynb\" target=\"_parent\"><img src=\"https://colab.research.google.com/assets/colab-badge.svg\" alt=\"Open In Colab\"/></a>"
      ]
    },
    {
      "cell_type": "markdown",
      "source": [
        "MID TERM PROJECT"
      ],
      "metadata": {
        "id": "jI9ebovlrwkb"
      }
    },
    {
      "cell_type": "code",
      "execution_count": null,
      "metadata": {
        "id": "wjZidIVTrUJj"
      },
      "outputs": [],
      "source": [
        "def is_credit(mylist):\n",
        "\n",
        "  mylist = []\n",
        "\n",
        "\n",
        "  def sum_in_digits(x):\n",
        "\n",
        "    strr = str(x)\n",
        "\n",
        "    listofnumbers = list(map(int , strr.strip()))\n",
        "\n",
        "    return sum(listofnumbers)\n",
        "\n",
        "\n",
        "  #mylist2 = [x*2 for x in mylist[1:-1:2]]\n",
        "\n",
        "  #print(mylist2)\n",
        "\n",
        "  mylist2 = []\n",
        "\n",
        "\n",
        "  for item in mylist[1:-1:2]:\n",
        "\n",
        "    item = item * 2\n",
        "\n",
        "    mylist2.append(item)\n",
        "\n",
        "  print(mylist2)"
      ]
    }
  ]
}