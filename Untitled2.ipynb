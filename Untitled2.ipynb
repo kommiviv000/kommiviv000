{
  "nbformat": 4,
  "nbformat_minor": 0,
  "metadata": {
    "colab": {
      "provenance": [],
      "authorship_tag": "ABX9TyNsfqYC6d8sXP73eDWY/MNb",
      "include_colab_link": true
    },
    "kernelspec": {
      "name": "python3",
      "display_name": "Python 3"
    },
    "language_info": {
      "name": "python"
    }
  },
  "cells": [
    {
      "cell_type": "markdown",
      "metadata": {
        "id": "view-in-github",
        "colab_type": "text"
      },
      "source": [
        "<a href=\"https://colab.research.google.com/github/kommiviv000/kommiviv000/blob/main/Untitled2.ipynb\" target=\"_parent\"><img src=\"https://colab.research.google.com/assets/colab-badge.svg\" alt=\"Open In Colab\"/></a>"
      ]
    },
    {
      "cell_type": "code",
      "execution_count": null,
      "metadata": {
        "id": "VHNSYNOgrec8"
      },
      "outputs": [],
      "source": [
        "#@title Assignment 8.1\n",
        "#1.  there are some bugs in this code. Please ensure this code is bug-free for all numbers and is working correctly.\n",
        "#2. Also test this function with different types of strings and ensures that it is working for the strings also.\n",
        "\n",
        "#3. you should the testing for\n",
        "- ints\n",
        "- floats\n",
        "- strings\n",
        "'''\n",
        "This function returns the maximum of three numbers or three strings.\n",
        "In the case strings, larger string appears later in the dictionary.\n",
        "'''\n",
        "def getMax(a, b, c):\n",
        "  #new variable#\n",
        "  x = \"Error: Please type 3 distinct numbers\"\n",
        "  if (a > b):\n",
        "    if (a > c):\n",
        "      return a\n",
        "    else:\n",
        "      return c\n",
        "  elif (b > c):\n",
        "    return b\n",
        "    #next 2 lines are edits#\n",
        "  elif (a==b) or (b==c) or (a==c):\n",
        "    return x\n"
      ]
    },
    {
      "cell_type": "code",
      "source": [
        "#@title Assignment 8.2\n",
        "# implement isLeapYear() function and perform the testing\n",
        "'''\n",
        "Function Contract: Function Documentation\n",
        "\n",
        "isLeapYear function returns True if the input_year is a leap year.\n",
        "Otherwise, it returns False.\n",
        "\n",
        "If the year divisible by 100  &  if the year divisible by 400\n",
        "then it is leap year  (feb = 29)\n",
        "\n",
        "if the year divisible by 100  &  the year divisible by 4\n",
        "then it is leap year  (feb = 29)\n",
        "\n",
        "otherwise, it is NOT a leap year (feb =28)\n",
        "\n",
        "'''\n",
        "\n",
        "def isLeapYear(input_year):\n",
        "   if (input_year % 400 == 0) and (input_year % 100 == 0):\n",
        "    print(true)\n",
        "   elif (input_year % 4 ==0) and (input_year % 100 != 0):\n",
        "    return True\n",
        "   else:\n",
        "       return False\n",
        "\n",
        "a = isLeapYear(2020)\n",
        "print(a)"
      ],
      "metadata": {
        "id": "WsWxfhK6rpxa"
      },
      "execution_count": null,
      "outputs": []
    }
  ]
}